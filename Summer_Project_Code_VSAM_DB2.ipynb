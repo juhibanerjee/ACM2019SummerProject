{
 "cells": [
  {
   "cell_type": "code",
   "execution_count": 2,
   "metadata": {},
   "outputs": [],
   "source": [
    "USERNAME=\"SPKF2AA\"\n",
    "PASSWORD=\"test1234\"\n",
    "MDSS_SSID=\"AZK1\"\n",
    "DB2_SSID=\"DBBG\"\n",
    "\n",
    "import pandas as pd\n",
    "import numpy as np\n",
    "import dsdbc\n",
    "\n",
    "import warnings\n",
    "warnings.filterwarnings(\"ignore\")\n",
    "warnings.simplefilter(\"ignore\", category=PendingDeprecationWarning)"
   ]
  },
  {
   "cell_type": "code",
   "execution_count": 3,
   "metadata": {},
   "outputs": [],
   "source": [
    "def cp1047_to_utf8(list):\n",
    "    list_out = []\n",
    "    for e in list:\n",
    "        x = ()\n",
    "        for i in e:\n",
    "            if isinstance(i, (str,)):\n",
    "                s = i.encode('utf16').decode('cp1047').encode('utf8').decode('utf16')[2:]\n",
    "                x = x + (s,)\n",
    "            else:\n",
    "                x = x + (i,)\n",
    "        list_out.append(x)\n",
    "    return list_out\n",
    "\n",
    "def load_data_from_mds(vtable_name, user, password, mds_id=MDSS_SSID):\n",
    "    conn =dsdbc.connect(SSID=mds_id, user=user, password=password)\n",
    "    cursor = conn.cursor()\n",
    "    cursor.execute(\"SELECT * FROM \" + vtable_name)\n",
    "    rows = cursor.fetchall()\n",
    "    label = []\n",
    "    for col in cursor.description: label.append(col[0].lower())\n",
    "    conn.close()\n",
    "    return pd.DataFrame(rows, columns=label)\n",
    "\n",
    "def load_data_from_db2(table_name, user, password, mds_id=MDSS_SSID,  db2_id=DB2_SSID):\n",
    "    conn =dsdbc.connect(SSID=mds_id, user=user, password=password, dsid=db2_id)\n",
    "    cursor = conn.cursor()\n",
    "    sql = \"SELECT * FROM \" + table_name\n",
    "    #print(sql)\n",
    "    cursor.execute(sql)\n",
    "    rows = cp1047_to_utf8(cursor.fetchall())\n",
    "    label = []\n",
    "    for col in cursor.description: label.append(col[0].lower())\n",
    "    conn.close()\n",
    "    return pd.DataFrame(rows, columns=label)\n"
   ]
  },
  {
   "cell_type": "code",
   "execution_count": 4,
   "metadata": {
    "scrolled": true
   },
   "outputs": [],
   "source": [
    "txn_df = load_data_from_db2(table_name='SPARKDB.SPPAYTB1', user=USERNAME, password=PASSWORD)"
   ]
  },
  {
   "cell_type": "code",
   "execution_count": 5,
   "metadata": {
    "scrolled": true
   },
   "outputs": [
    {
     "data": {
      "text/html": [
       "<div>\n",
       "<table border=\"1\" class=\"dataframe\">\n",
       "  <thead>\n",
       "    <tr style=\"text-align: right;\">\n",
       "      <th></th>\n",
       "      <th>acaureq_hdr_credtt</th>\n",
       "      <th>acaureq_aureq_env_a_id_id</th>\n",
       "      <th>acaureq_aureq_env_m_id_id</th>\n",
       "      <th>acaureq_aureq_env_m_cmonnm</th>\n",
       "      <th>acaureq_aureq_env_cpl_pan</th>\n",
       "      <th>acaureq_aureq_env_c_cardbrnd</th>\n",
       "      <th>acaureq_aureq_tx_mrchntctgycd</th>\n",
       "      <th>acaureq_aureq_tx_dt_ttlamt</th>\n",
       "      <th>cont_id</th>\n",
       "      <th>mdm_postal_code_id</th>\n",
       "      <th>age</th>\n",
       "      <th>authorresult_rspnt</th>\n",
       "      <th>fraud_ver_result</th>\n",
       "      <th>date</th>\n",
       "    </tr>\n",
       "  </thead>\n",
       "  <tbody>\n",
       "    <tr>\n",
       "      <th>0</th>\n",
       "      <td>2013-04-02 22:47:00.001</td>\n",
       "      <td>BancaItaliana</td>\n",
       "      <td>C0120580917273555</td>\n",
       "      <td>Don't be alone</td>\n",
       "      <td>1009549375</td>\n",
       "      <td>Visa Gold</td>\n",
       "      <td>7273</td>\n",
       "      <td>84.87</td>\n",
       "      <td>1009549370</td>\n",
       "      <td>C012058091</td>\n",
       "      <td>51</td>\n",
       "      <td>APPR</td>\n",
       "      <td>N</td>\n",
       "      <td>2013-04-02</td>\n",
       "    </tr>\n",
       "    <tr>\n",
       "      <th>1</th>\n",
       "      <td>2013-01-19 16:55:12.001</td>\n",
       "      <td>BancaItaliana</td>\n",
       "      <td>C0120580915621418</td>\n",
       "      <td>Donna Elegante</td>\n",
       "      <td>1009549375</td>\n",
       "      <td>Visa Gold</td>\n",
       "      <td>5621</td>\n",
       "      <td>179.43</td>\n",
       "      <td>1009549370</td>\n",
       "      <td>C012058091</td>\n",
       "      <td>51</td>\n",
       "      <td>APPR</td>\n",
       "      <td>N</td>\n",
       "      <td>2013-01-19</td>\n",
       "    </tr>\n",
       "    <tr>\n",
       "      <th>2</th>\n",
       "      <td>2013-06-03 17:58:05.001</td>\n",
       "      <td>BancaItaliana</td>\n",
       "      <td>C0120580915311606</td>\n",
       "      <td>Rinascimento</td>\n",
       "      <td>1009549375</td>\n",
       "      <td>Visa Gold</td>\n",
       "      <td>5311</td>\n",
       "      <td>140.34</td>\n",
       "      <td>1009549370</td>\n",
       "      <td>C012058091</td>\n",
       "      <td>51</td>\n",
       "      <td>APPR</td>\n",
       "      <td>N</td>\n",
       "      <td>2013-06-03</td>\n",
       "    </tr>\n",
       "    <tr>\n",
       "      <th>3</th>\n",
       "      <td>2013-06-02 22:02:00.001</td>\n",
       "      <td>BancaItaliana</td>\n",
       "      <td>C0120580915814746</td>\n",
       "      <td>Eat and Go</td>\n",
       "      <td>1009549375</td>\n",
       "      <td>Visa Gold</td>\n",
       "      <td>5814</td>\n",
       "      <td>144.10</td>\n",
       "      <td>1009549370</td>\n",
       "      <td>C012058091</td>\n",
       "      <td>51</td>\n",
       "      <td>APPR</td>\n",
       "      <td>N</td>\n",
       "      <td>2013-06-02</td>\n",
       "    </tr>\n",
       "    <tr>\n",
       "      <th>4</th>\n",
       "      <td>2013-03-02 14:00:00.001</td>\n",
       "      <td>BancaItaliana</td>\n",
       "      <td>C0120580915992763</td>\n",
       "      <td>Florists</td>\n",
       "      <td>1009549375</td>\n",
       "      <td>Visa Gold</td>\n",
       "      <td>5992</td>\n",
       "      <td>111.73</td>\n",
       "      <td>1009549370</td>\n",
       "      <td>C012058091</td>\n",
       "      <td>51</td>\n",
       "      <td>APPR</td>\n",
       "      <td>N</td>\n",
       "      <td>2013-03-02</td>\n",
       "    </tr>\n",
       "  </tbody>\n",
       "</table>\n",
       "</div>"
      ],
      "text/plain": [
       "       acaureq_hdr_credtt acaureq_aureq_env_a_id_id acaureq_aureq_env_m_id_id  \\\n",
       "0 2013-04-02 22:47:00.001             BancaItaliana         C0120580917273555   \n",
       "1 2013-01-19 16:55:12.001             BancaItaliana         C0120580915621418   \n",
       "2 2013-06-03 17:58:05.001             BancaItaliana         C0120580915311606   \n",
       "3 2013-06-02 22:02:00.001             BancaItaliana         C0120580915814746   \n",
       "4 2013-03-02 14:00:00.001             BancaItaliana         C0120580915992763   \n",
       "\n",
       "  acaureq_aureq_env_m_cmonnm acaureq_aureq_env_cpl_pan  \\\n",
       "0             Don't be alone                1009549375   \n",
       "1             Donna Elegante                1009549375   \n",
       "2               Rinascimento                1009549375   \n",
       "3                 Eat and Go                1009549375   \n",
       "4                   Florists                1009549375   \n",
       "\n",
       "  acaureq_aureq_env_c_cardbrnd acaureq_aureq_tx_mrchntctgycd  \\\n",
       "0                    Visa Gold                          7273   \n",
       "1                    Visa Gold                          5621   \n",
       "2                    Visa Gold                          5311   \n",
       "3                    Visa Gold                          5814   \n",
       "4                    Visa Gold                          5992   \n",
       "\n",
       "   acaureq_aureq_tx_dt_ttlamt     cont_id mdm_postal_code_id  age  \\\n",
       "0                       84.87  1009549370         C012058091   51   \n",
       "1                      179.43  1009549370         C012058091   51   \n",
       "2                      140.34  1009549370         C012058091   51   \n",
       "3                      144.10  1009549370         C012058091   51   \n",
       "4                      111.73  1009549370         C012058091   51   \n",
       "\n",
       "  authorresult_rspnt fraud_ver_result        date  \n",
       "0               APPR                N  2013-04-02  \n",
       "1               APPR                N  2013-01-19  \n",
       "2               APPR                N  2013-06-03  \n",
       "3               APPR                N  2013-06-02  \n",
       "4               APPR                N  2013-03-02  "
      ]
     },
     "execution_count": 5,
     "metadata": {},
     "output_type": "execute_result"
    }
   ],
   "source": [
    "txn_df['acaureq_aureq_tx_dt_ttlamt'] = pd.to_numeric(txn_df['acaureq_aureq_tx_dt_ttlamt'])\n",
    "txn_df['cont_id'] = txn_df['cont_id'].astype('int64')\n",
    "txn_df['acaureq_hdr_credtt'] = pd.to_datetime(txn_df['acaureq_hdr_credtt'])\n",
    "\n",
    "txn_df['date'] = txn_df['acaureq_hdr_credtt'].apply(lambda x: x.date())\n",
    "txn_df.head(5)"
   ]
  },
  {
   "cell_type": "code",
   "execution_count": 6,
   "metadata": {
    "collapsed": true
   },
   "outputs": [],
   "source": [
    "client_df = load_data_from_mds(vtable_name='VSAM_CLIENT', user=USERNAME, password=PASSWORD)"
   ]
  },
  {
   "cell_type": "code",
   "execution_count": 7,
   "metadata": {
    "scrolled": true
   },
   "outputs": [
    {
     "data": {
      "text/html": [
       "<div>\n",
       "<table border=\"1\" class=\"dataframe\">\n",
       "  <thead>\n",
       "    <tr style=\"text-align: right;\">\n",
       "      <th></th>\n",
       "      <th>gender</th>\n",
       "      <th>age_years</th>\n",
       "      <th>highest_edu</th>\n",
       "      <th>annual_invest</th>\n",
       "      <th>annual_income</th>\n",
       "      <th>activity_level</th>\n",
       "      <th>churn</th>\n",
       "      <th>record_id</th>\n",
       "    </tr>\n",
       "    <tr>\n",
       "      <th>cont_id</th>\n",
       "      <th></th>\n",
       "      <th></th>\n",
       "      <th></th>\n",
       "      <th></th>\n",
       "      <th></th>\n",
       "      <th></th>\n",
       "      <th></th>\n",
       "      <th></th>\n",
       "    </tr>\n",
       "  </thead>\n",
       "  <tbody>\n",
       "    <tr>\n",
       "      <th>1009520370</th>\n",
       "      <td>1</td>\n",
       "      <td>63.23</td>\n",
       "      <td>4</td>\n",
       "      <td>0.0</td>\n",
       "      <td>13035.0</td>\n",
       "      <td>3</td>\n",
       "      <td>0</td>\n",
       "      <td>0</td>\n",
       "    </tr>\n",
       "    <tr>\n",
       "      <th>1009520380</th>\n",
       "      <td>1</td>\n",
       "      <td>58.51</td>\n",
       "      <td>1</td>\n",
       "      <td>0.0</td>\n",
       "      <td>18267.0</td>\n",
       "      <td>0</td>\n",
       "      <td>0</td>\n",
       "      <td>600</td>\n",
       "    </tr>\n",
       "    <tr>\n",
       "      <th>1009520390</th>\n",
       "      <td>0</td>\n",
       "      <td>31.10</td>\n",
       "      <td>2</td>\n",
       "      <td>111192.0</td>\n",
       "      <td>129276.0</td>\n",
       "      <td>2</td>\n",
       "      <td>0</td>\n",
       "      <td>1200</td>\n",
       "    </tr>\n",
       "    <tr>\n",
       "      <th>1009520400</th>\n",
       "      <td>0</td>\n",
       "      <td>49.84</td>\n",
       "      <td>1</td>\n",
       "      <td>0.0</td>\n",
       "      <td>17867.0</td>\n",
       "      <td>2</td>\n",
       "      <td>0</td>\n",
       "      <td>1800</td>\n",
       "    </tr>\n",
       "    <tr>\n",
       "      <th>1009520410</th>\n",
       "      <td>1</td>\n",
       "      <td>53.33</td>\n",
       "      <td>1</td>\n",
       "      <td>0.0</td>\n",
       "      <td>17576.0</td>\n",
       "      <td>1</td>\n",
       "      <td>0</td>\n",
       "      <td>2400</td>\n",
       "    </tr>\n",
       "  </tbody>\n",
       "</table>\n",
       "</div>"
      ],
      "text/plain": [
       "            gender  age_years  highest_edu  annual_invest  annual_income  \\\n",
       "cont_id                                                                    \n",
       "1009520370       1      63.23            4            0.0        13035.0   \n",
       "1009520380       1      58.51            1            0.0        18267.0   \n",
       "1009520390       0      31.10            2       111192.0       129276.0   \n",
       "1009520400       0      49.84            1            0.0        17867.0   \n",
       "1009520410       1      53.33            1            0.0        17576.0   \n",
       "\n",
       "            activity_level  churn  record_id  \n",
       "cont_id                                       \n",
       "1009520370               3      0          0  \n",
       "1009520380               0      0        600  \n",
       "1009520390               2      0       1200  \n",
       "1009520400               2      0       1800  \n",
       "1009520410               1      0       2400  "
      ]
     },
     "execution_count": 7,
     "metadata": {},
     "output_type": "execute_result"
    }
   ],
   "source": [
    "client_df = load_data_from_mds(vtable_name='VSAM_CLIENT', user=USERNAME, password=PASSWORD)\n",
    "client_df = client_df.set_index(\"cont_id\")\n",
    "client_df.head(5)"
   ]
  },
  {
   "cell_type": "code",
   "execution_count": 8,
   "metadata": {
    "scrolled": false
   },
   "outputs": [
    {
     "data": {
      "text/html": [
       "<div>\n",
       "<table border=\"1\" class=\"dataframe\">\n",
       "  <thead>\n",
       "    <tr style=\"text-align: right;\">\n",
       "      <th></th>\n",
       "      <th>total_txns</th>\n",
       "      <th>gender</th>\n",
       "      <th>age_years</th>\n",
       "      <th>highest_edu</th>\n",
       "      <th>annual_invest</th>\n",
       "      <th>annual_income</th>\n",
       "      <th>activity_level</th>\n",
       "      <th>churn</th>\n",
       "      <th>record_id</th>\n",
       "      <th>total_txn_amount</th>\n",
       "      <th>avg_txn_amount</th>\n",
       "      <th>avg_daily_txns</th>\n",
       "    </tr>\n",
       "    <tr>\n",
       "      <th>cont_id</th>\n",
       "      <th></th>\n",
       "      <th></th>\n",
       "      <th></th>\n",
       "      <th></th>\n",
       "      <th></th>\n",
       "      <th></th>\n",
       "      <th></th>\n",
       "      <th></th>\n",
       "      <th></th>\n",
       "      <th></th>\n",
       "      <th></th>\n",
       "      <th></th>\n",
       "    </tr>\n",
       "  </thead>\n",
       "  <tbody>\n",
       "    <tr>\n",
       "      <th>1009525770</th>\n",
       "      <td>104</td>\n",
       "      <td>1</td>\n",
       "      <td>24.50</td>\n",
       "      <td>1</td>\n",
       "      <td>0.0</td>\n",
       "      <td>22318.0</td>\n",
       "      <td>2</td>\n",
       "      <td>0</td>\n",
       "      <td>327680</td>\n",
       "      <td>4159.56</td>\n",
       "      <td>39.995769</td>\n",
       "      <td>0.284932</td>\n",
       "    </tr>\n",
       "    <tr>\n",
       "      <th>1009526100</th>\n",
       "      <td>244</td>\n",
       "      <td>1</td>\n",
       "      <td>71.56</td>\n",
       "      <td>1</td>\n",
       "      <td>0.0</td>\n",
       "      <td>23688.0</td>\n",
       "      <td>0</td>\n",
       "      <td>1</td>\n",
       "      <td>347480</td>\n",
       "      <td>10196.84</td>\n",
       "      <td>41.790328</td>\n",
       "      <td>0.668493</td>\n",
       "    </tr>\n",
       "    <tr>\n",
       "      <th>1009526540</th>\n",
       "      <td>69</td>\n",
       "      <td>0</td>\n",
       "      <td>39.86</td>\n",
       "      <td>1</td>\n",
       "      <td>0.0</td>\n",
       "      <td>22628.0</td>\n",
       "      <td>3</td>\n",
       "      <td>0</td>\n",
       "      <td>374248</td>\n",
       "      <td>3591.61</td>\n",
       "      <td>52.052319</td>\n",
       "      <td>0.189041</td>\n",
       "    </tr>\n",
       "  </tbody>\n",
       "</table>\n",
       "</div>"
      ],
      "text/plain": [
       "            total_txns  gender  age_years  highest_edu  annual_invest  \\\n",
       "cont_id                                                                 \n",
       "1009525770         104       1      24.50            1            0.0   \n",
       "1009526100         244       1      71.56            1            0.0   \n",
       "1009526540          69       0      39.86            1            0.0   \n",
       "\n",
       "            annual_income  activity_level  churn  record_id  total_txn_amount  \\\n",
       "cont_id                                                                         \n",
       "1009525770        22318.0               2      0     327680           4159.56   \n",
       "1009526100        23688.0               0      1     347480          10196.84   \n",
       "1009526540        22628.0               3      0     374248           3591.61   \n",
       "\n",
       "            avg_txn_amount  avg_daily_txns  \n",
       "cont_id                                     \n",
       "1009525770       39.995769        0.284932  \n",
       "1009526100       41.790328        0.668493  \n",
       "1009526540       52.052319        0.189041  "
      ]
     },
     "execution_count": 8,
     "metadata": {},
     "output_type": "execute_result"
    }
   ],
   "source": [
    "# Ashish did the changes as the resultant data frame need to join with original dataframe. Seems the existing code is doing other way round.\n",
    "#Total transactions per customer\n",
    "#total_txns_df = txn_df.groupby('cont_id').size().rename(\"total_txns\").to_frame()\n",
    "#client_df = client_df.join(total_txns_df)\n",
    "total_txns_df = txn_df.groupby('cont_id').size().rename(\"total_txns\").to_frame()\n",
    "client_df = total_txns_df.join(client_df)\n",
    "\n",
    "#Total transaction amount per customer\n",
    "#total_txn_amt = txn_df.groupby('cont_id')['acaureq_aureq_tx_dt_ttlamt'].sum().rename(\"txn_amt\").to_frame()\n",
    "#client_df = client_df.join(total_txn_amt)\n",
    "total_txn_amount_df = txn_df.groupby('cont_id')['acaureq_aureq_tx_dt_ttlamt'].sum().rename(\"total_txn_amount\").to_frame()\n",
    "client_df = client_df.join(total_txn_amount_df)\n",
    "\n",
    "# Avg transaction amounts per customer\n",
    "#avg_txn_amount = txn_df.groupby('cont_id')['acaureq_aureq_tx_dt_ttlamt'].mean().rename(\"avg_txn_amount\").to_frame()\n",
    "#client_df = client_df.join(avg_txn_amount)\n",
    "avg_txn_amount_df = txn_df.groupby('cont_id')['acaureq_aureq_tx_dt_ttlamt'].mean().rename(\"avg_txn_amount\").to_frame()\n",
    "client_df = client_df.join(avg_txn_amount_df)\n",
    "\n",
    "# Average daily txns per customer\n",
    "daily_txns = txn_df.groupby(['date', 'cont_id']).size()\n",
    "\n",
    "# Missing txns on a particular day means customer had none.\n",
    "# These days should be included in the avg as 0 transaction days.\n",
    "avg_daily_txns_df = daily_txns.unstack().fillna(0).mean().rename(\"avg_daily_txns\").to_frame()\n",
    "client_df = client_df.join(avg_daily_txns_df)\n",
    "\n",
    "client_df.head(3)"
   ]
  },
  {
   "cell_type": "code",
   "execution_count": 9,
   "metadata": {
    "collapsed": true
   },
   "outputs": [],
   "source": [
    "#Importing matplotlib and seaborn\n",
    "import matplotlib.pyplot as plt\n",
    "import seaborn as sns\n",
    "%matplotlib inline\n",
    "sns.set_style(style='whitegrid')"
   ]
  },
  {
   "cell_type": "code",
   "execution_count": 10,
   "metadata": {},
   "outputs": [
    {
     "data": {
      "text/plain": [
       "<matplotlib.axes._subplots.AxesSubplot at 0x5052161cf8>"
      ]
     },
     "execution_count": 10,
     "metadata": {},
     "output_type": "execute_result"
    },
    {
     "data": {
      "image/png": "[encoded data removed]",
      "text/plain": [
       "<matplotlib.figure.Figure at 0x505216aac8>"
      ]
     },
     "metadata": {},
     "output_type": "display_data"
    }
   ],
   "source": [
    "corr = client_df.corr()\n",
    "sns.heatmap(corr)"
   ]
  },
  {
   "cell_type": "code",
   "execution_count": 11,
   "metadata": {},
   "outputs": [
    {
     "data": {
      "image/png": "[encoded data removed]",
      "text/plain": [
       "<matplotlib.figure.Figure at 0x5051f28358>"
      ]
     },
     "metadata": {},
     "output_type": "display_data"
    }
   ],
   "source": [
    "corr = client_df.corr()\n",
    "#only the lower triangle\n",
    "mask = np.zeros_like(corr)\n",
    "mask[np.triu_indices_from(mask)] = True\n",
    "\n",
    "f, ax = plt.subplots(figsize=(6,6))\n",
    "ax = sns.heatmap(corr, mask=mask, ax=ax)\n",
    "title = ax.set_title('Correlations', size=15)"
   ]
  },
  {
   "cell_type": "code",
   "execution_count": 12,
   "metadata": {},
   "outputs": [
    {
     "data": {
      "image/png": "[encoded data removed]",
      "text/plain": [
       "<matplotlib.figure.Figure at 0x5051c237b8>"
      ]
     },
     "metadata": {},
     "output_type": "display_data"
    }
   ],
   "source": [
    "#distribution of clients who churned and didnot churn in the same axis\n",
    "col = 'age_years'\n",
    "f, ax = plt.subplots(figsize=(12,8))\n",
    "ax = sns.boxplot(x='activity_level', y=col, hue=\"churn\", data=client_df, \n",
    "                 palette='muted', ax=ax)\n",
    "title = ax.set_title('Client Churn by Activity Level')\n",
    "label = ax.set_ylabel('Age (Years)')\n",
    "label = ax.set_xlabel('Activity Level')\n",
    "handles, labels = ax.get_legend_handles_labels()"
   ]
  },
  {
   "cell_type": "code",
   "execution_count": 13,
   "metadata": {
    "scrolled": true
   },
   "outputs": [
    {
     "data": {
      "text/plain": [
       "<matplotlib.legend.Legend at 0x5051191ac8>"
      ]
     },
     "execution_count": 13,
     "metadata": {},
     "output_type": "execute_result"
    },
    {
     "data": {
      "image/png": "[encoded data removed]",
      "text/plain": [
       "<matplotlib.figure.Figure at 0x5051191c18>"
      ]
     },
     "metadata": {},
     "output_type": "display_data"
    }
   ],
   "source": [
    "f, ax = plt.subplots(figsize=(10,8))\n",
    "ax = sns.swarmplot(x='activity_level', y='age_years', hue='churn', data=client_df.sample(n=100, random_state=51),palette='muted',ax=ax)\n",
    "title = ax.set_title('Client Churn by Activity Level')\n",
    "label = ax.set_ylabel('Age (Years)')\n",
    "label = ax.set_xlabel('Activity Level')\n",
    "plt.legend(bbox_to_anchor=(1,0.5),loc='center left')"
   ]
  },
  {
   "cell_type": "code",
   "execution_count": 14,
   "metadata": {},
   "outputs": [],
   "source": [
    "from sklearn.preprocessing import StandardScaler\n",
    "from sklearn.cross_validation import train_test_split"
   ]
  },
  {
   "cell_type": "code",
   "execution_count": 15,
   "metadata": {
    "scrolled": false
   },
   "outputs": [],
   "source": [
    "#splitting data into train and test sets\n",
    "train_index, test_index = train_test_split(client_df.index, random_state=99)\n",
    "train_df = client_df.ix[train_index]\n",
    "test_df = client_df.ix[test_index]\n",
    "\n",
    "#target variable in training set\n",
    "train_y = np.array(train_df['churn'])\n",
    "\n",
    "#extracting features in training set\n",
    "train_features_df = train_df.drop(['churn','customer_id'],axis=1, errors ='ignore')\n",
    "train_x = train_features_df.as_matrix().astype(np.float)\n",
    "scalar = StandardScaler()\n",
    "train_x = scalar.fit_transform(train_x)\n",
    "\n",
    "#target variable in test set\n",
    "test_y = np.array(test_df['churn'])\n",
    "\n",
    "#extracting features in test set\n",
    "test_features_df = test_df.drop(['churn','customer_id'],axis=1, errors ='ignore')\n",
    "test_x =test_features_df.as_matrix().astype(np.float)\n",
    "test_x = scalar.transform(test_x)"
   ]
  },
  {
   "cell_type": "code",
   "execution_count": 17,
   "metadata": {},
   "outputs": [],
   "source": [
    "#RandomForestClassifier\n",
    "from sklearn.ensemble import RandomForestClassifier as RF\n",
    "clf1 = RF(n_estimators=100)\n",
    "clf1.fit(train_x, train_y)\n",
    "pred_RF = clf1.predict_proba(test_x)[:,1]\n"
   ]
  },
  {
   "cell_type": "code",
   "execution_count": 18,
   "metadata": {
    "collapsed": true
   },
   "outputs": [],
   "source": [
    "output_df = test_df.copy()"
   ]
  },
  {
   "cell_type": "code",
   "execution_count": 22,
   "metadata": {},
   "outputs": [
    {
     "data": {
      "text/html": [
       "<div>\n",
       "<table border=\"1\" class=\"dataframe\">\n",
       "  <thead>\n",
       "    <tr style=\"text-align: right;\">\n",
       "      <th></th>\n",
       "      <th>total_txns</th>\n",
       "      <th>gender</th>\n",
       "      <th>age_years</th>\n",
       "      <th>highest_edu</th>\n",
       "      <th>annual_invest</th>\n",
       "      <th>annual_income</th>\n",
       "      <th>activity_level</th>\n",
       "      <th>churn</th>\n",
       "      <th>record_id</th>\n",
       "      <th>total_txn_amount</th>\n",
       "      <th>avg_txn_amount</th>\n",
       "      <th>avg_daily_txns</th>\n",
       "      <th>churn_proba_RF</th>\n",
       "      <th>worth</th>\n",
       "      <th>predicted_loss_RF</th>\n",
       "    </tr>\n",
       "    <tr>\n",
       "      <th>cont_id</th>\n",
       "      <th></th>\n",
       "      <th></th>\n",
       "      <th></th>\n",
       "      <th></th>\n",
       "      <th></th>\n",
       "      <th></th>\n",
       "      <th></th>\n",
       "      <th></th>\n",
       "      <th></th>\n",
       "      <th></th>\n",
       "      <th></th>\n",
       "      <th></th>\n",
       "      <th></th>\n",
       "      <th></th>\n",
       "      <th></th>\n",
       "    </tr>\n",
       "  </thead>\n",
       "  <tbody>\n",
       "    <tr>\n",
       "      <th>1009554080</th>\n",
       "      <td>192</td>\n",
       "      <td>0</td>\n",
       "      <td>22.55</td>\n",
       "      <td>2</td>\n",
       "      <td>113071.0</td>\n",
       "      <td>124132.0</td>\n",
       "      <td>0</td>\n",
       "      <td>1</td>\n",
       "      <td>2045416</td>\n",
       "      <td>21044.85</td>\n",
       "      <td>109.608594</td>\n",
       "      <td>0.526027</td>\n",
       "      <td>0.67</td>\n",
       "      <td>2990.866083</td>\n",
       "      <td>2003.880276</td>\n",
       "    </tr>\n",
       "    <tr>\n",
       "      <th>1009529950</th>\n",
       "      <td>301</td>\n",
       "      <td>0</td>\n",
       "      <td>30.36</td>\n",
       "      <td>2</td>\n",
       "      <td>86143.0</td>\n",
       "      <td>176189.0</td>\n",
       "      <td>2</td>\n",
       "      <td>1</td>\n",
       "      <td>581056</td>\n",
       "      <td>39737.90</td>\n",
       "      <td>132.019601</td>\n",
       "      <td>0.824658</td>\n",
       "      <td>0.35</td>\n",
       "      <td>2906.225167</td>\n",
       "      <td>1017.178808</td>\n",
       "    </tr>\n",
       "    <tr>\n",
       "      <th>1009528410</th>\n",
       "      <td>195</td>\n",
       "      <td>0</td>\n",
       "      <td>63.81</td>\n",
       "      <td>3</td>\n",
       "      <td>78373.0</td>\n",
       "      <td>93138.0</td>\n",
       "      <td>1</td>\n",
       "      <td>0</td>\n",
       "      <td>487552</td>\n",
       "      <td>16339.76</td>\n",
       "      <td>83.793641</td>\n",
       "      <td>0.534247</td>\n",
       "      <td>0.33</td>\n",
       "      <td>2123.016400</td>\n",
       "      <td>700.595412</td>\n",
       "    </tr>\n",
       "    <tr>\n",
       "      <th>1009547530</th>\n",
       "      <td>5</td>\n",
       "      <td>0</td>\n",
       "      <td>44.30</td>\n",
       "      <td>3</td>\n",
       "      <td>85402.0</td>\n",
       "      <td>73856.0</td>\n",
       "      <td>2</td>\n",
       "      <td>0</td>\n",
       "      <td>1648000</td>\n",
       "      <td>390.48</td>\n",
       "      <td>78.096000</td>\n",
       "      <td>0.013699</td>\n",
       "      <td>0.34</td>\n",
       "      <td>1960.083867</td>\n",
       "      <td>666.428515</td>\n",
       "    </tr>\n",
       "    <tr>\n",
       "      <th>1009528620</th>\n",
       "      <td>63</td>\n",
       "      <td>0</td>\n",
       "      <td>62.12</td>\n",
       "      <td>3</td>\n",
       "      <td>119243.0</td>\n",
       "      <td>171078.0</td>\n",
       "      <td>4</td>\n",
       "      <td>0</td>\n",
       "      <td>500520</td>\n",
       "      <td>8557.37</td>\n",
       "      <td>135.831270</td>\n",
       "      <td>0.172603</td>\n",
       "      <td>0.13</td>\n",
       "      <td>3083.480550</td>\n",
       "      <td>400.852471</td>\n",
       "    </tr>\n",
       "  </tbody>\n",
       "</table>\n",
       "</div>"
      ],
      "text/plain": [
       "            total_txns  gender  age_years  highest_edu  annual_invest  \\\n",
       "cont_id                                                                 \n",
       "1009554080         192       0      22.55            2       113071.0   \n",
       "1009529950         301       0      30.36            2        86143.0   \n",
       "1009528410         195       0      63.81            3        78373.0   \n",
       "1009547530           5       0      44.30            3        85402.0   \n",
       "1009528620          63       0      62.12            3       119243.0   \n",
       "\n",
       "            annual_income  activity_level  churn  record_id  total_txn_amount  \\\n",
       "cont_id                                                                         \n",
       "1009554080       124132.0               0      1    2045416          21044.85   \n",
       "1009529950       176189.0               2      1     581056          39737.90   \n",
       "1009528410        93138.0               1      0     487552          16339.76   \n",
       "1009547530        73856.0               2      0    1648000            390.48   \n",
       "1009528620       171078.0               4      0     500520           8557.37   \n",
       "\n",
       "            avg_txn_amount  avg_daily_txns  churn_proba_RF        worth  \\\n",
       "cont_id                                                                   \n",
       "1009554080      109.608594        0.526027            0.67  2990.866083   \n",
       "1009529950      132.019601        0.824658            0.35  2906.225167   \n",
       "1009528410       83.793641        0.534247            0.33  2123.016400   \n",
       "1009547530       78.096000        0.013699            0.34  1960.083867   \n",
       "1009528620      135.831270        0.172603            0.13  3083.480550   \n",
       "\n",
       "            predicted_loss_RF  \n",
       "cont_id                        \n",
       "1009554080        2003.880276  \n",
       "1009529950        1017.178808  \n",
       "1009528410         700.595412  \n",
       "1009547530         666.428515  \n",
       "1009528620         400.852471  "
      ]
     },
     "execution_count": 22,
     "metadata": {},
     "output_type": "execute_result"
    }
   ],
   "source": [
    "output_df['churn_proba_RF'] = pred_RF\n",
    "\n",
    "avg_daily_balance = output_df['annual_income']/6\n",
    "\n",
    "deposit_rate = 0.02\n",
    "credit_rate = 0.015\n",
    "mgmt_rate = 0.02\n",
    "\n",
    "#how much is each customer worth to the business?\n",
    "output_df['worth'] = deposit_rate * avg_daily_balance + \\\n",
    "        mgmt_rate * output_df['annual_invest'] + \\\n",
    "        credit_rate * output_df['total_txn_amount']\n",
    "\n",
    "# for RandomForestClassifier\n",
    "output_df['predicted_loss_RF'] = output_df['churn_proba_RF'] * output_df['worth']\n",
    "\n",
    "output_df.sort_values(by='predicted_loss_RF', ascending=False).head(5)"
   ]
  },
  {
   "cell_type": "code",
   "execution_count": 23,
   "metadata": {},
   "outputs": [
    {
     "data": {
      "text/plain": [
       "<seaborn.axisgrid.JointGrid at 0x5050c0a9e8>"
      ]
     },
     "execution_count": 23,
     "metadata": {},
     "output_type": "execute_result"
    },
    {
     "data": {
      "image/png": "[encoded data removed]",
      "text/plain": [
       "<matplotlib.figure.Figure at 0x5050c0aa20>"
      ]
     },
     "metadata": {},
     "output_type": "display_data"
    }
   ],
   "source": [
    "sns.jointplot('age_years','predicted_loss_RF', data=output_df)"
   ]
  },
  {
   "cell_type": "code",
   "execution_count": 25,
   "metadata": {},
   "outputs": [
    {
     "data": {
      "text/html": [
       "<div>\n",
       "<table border=\"1\" class=\"dataframe\">\n",
       "  <thead>\n",
       "    <tr style=\"text-align: right;\">\n",
       "      <th></th>\n",
       "      <th>age_years</th>\n",
       "      <th>predicted_loss_RF</th>\n",
       "    </tr>\n",
       "  </thead>\n",
       "  <tbody>\n",
       "    <tr>\n",
       "      <th>0</th>\n",
       "      <td>(22, 27]</td>\n",
       "      <td>2426.236102</td>\n",
       "    </tr>\n",
       "    <tr>\n",
       "      <th>1</th>\n",
       "      <td>(27, 32]</td>\n",
       "      <td>1102.292628</td>\n",
       "    </tr>\n",
       "    <tr>\n",
       "      <th>2</th>\n",
       "      <td>(32, 37]</td>\n",
       "      <td>91.160552</td>\n",
       "    </tr>\n",
       "    <tr>\n",
       "      <th>3</th>\n",
       "      <td>(37, 42]</td>\n",
       "      <td>134.908930</td>\n",
       "    </tr>\n",
       "    <tr>\n",
       "      <th>4</th>\n",
       "      <td>(42, 47]</td>\n",
       "      <td>779.835028</td>\n",
       "    </tr>\n",
       "    <tr>\n",
       "      <th>5</th>\n",
       "      <td>(47, 52]</td>\n",
       "      <td>68.753084</td>\n",
       "    </tr>\n",
       "    <tr>\n",
       "      <th>6</th>\n",
       "      <td>(52, 57]</td>\n",
       "      <td>42.942677</td>\n",
       "    </tr>\n",
       "    <tr>\n",
       "      <th>7</th>\n",
       "      <td>(57, 62]</td>\n",
       "      <td>433.643822</td>\n",
       "    </tr>\n",
       "    <tr>\n",
       "      <th>8</th>\n",
       "      <td>(62, 67]</td>\n",
       "      <td>1580.857398</td>\n",
       "    </tr>\n",
       "    <tr>\n",
       "      <th>9</th>\n",
       "      <td>(67, 72]</td>\n",
       "      <td>NaN</td>\n",
       "    </tr>\n",
       "    <tr>\n",
       "      <th>10</th>\n",
       "      <td>(72, 77]</td>\n",
       "      <td>157.730738</td>\n",
       "    </tr>\n",
       "    <tr>\n",
       "      <th>11</th>\n",
       "      <td>(77, 82]</td>\n",
       "      <td>NaN</td>\n",
       "    </tr>\n",
       "    <tr>\n",
       "      <th>12</th>\n",
       "      <td>(82, 87]</td>\n",
       "      <td>31.267365</td>\n",
       "    </tr>\n",
       "  </tbody>\n",
       "</table>\n",
       "</div>"
      ],
      "text/plain": [
       "   age_years  predicted_loss_RF\n",
       "0   (22, 27]        2426.236102\n",
       "1   (27, 32]        1102.292628\n",
       "2   (32, 37]          91.160552\n",
       "3   (37, 42]         134.908930\n",
       "4   (42, 47]         779.835028\n",
       "5   (47, 52]          68.753084\n",
       "6   (52, 57]          42.942677\n",
       "7   (57, 62]         433.643822\n",
       "8   (62, 67]        1580.857398\n",
       "9   (67, 72]                NaN\n",
       "10  (72, 77]         157.730738\n",
       "11  (77, 82]                NaN\n",
       "12  (82, 87]          31.267365"
      ]
     },
     "execution_count": 25,
     "metadata": {},
     "output_type": "execute_result"
    }
   ],
   "source": [
    "def group_by_age(df, bins=None):\n",
    "    if bins is None:\n",
    "        bin_size = 5\n",
    "        _min, _max = int(df.age_years.min()), int(df.age_years.max())\n",
    "        bins = range(_min, _max + bin_size, 5)\n",
    "    return df.groupby(pd.cut(df.age_years, bins=bins))\n",
    "\n",
    "data_by_age = output_df.pipe(group_by_age)\n",
    "data_by_age['predicted_loss_RF'].sum().reset_index()"
   ]
  },
  {
   "cell_type": "code",
   "execution_count": 27,
   "metadata": {},
   "outputs": [
    {
     "data": {
      "text/plain": [
       "<matplotlib.axes._subplots.AxesSubplot at 0x50512bd748>"
      ]
     },
     "execution_count": 27,
     "metadata": {},
     "output_type": "execute_result"
    },
    {
     "data": {
      "image/png": "[encoded data removed]",
      "text/plain": [
       "<matplotlib.figure.Figure at 0x5050b017f0>"
      ]
     },
     "metadata": {},
     "output_type": "display_data"
    }
   ],
   "source": [
    "loss_by_age_df = data_by_age['predicted_loss_RF'].sum().reset_index()\n",
    "loss_by_age_df['age_years'] = loss_by_age_df['age_years'].astype(str)\n",
    "\n",
    "loss_by_age_df.plot(x='age_years', y='predicted_loss_RF', style='r^')"
   ]
  },
  {
   "cell_type": "code",
   "execution_count": null,
   "metadata": {
    "collapsed": true
   },
   "outputs": [],
   "source": []
  }
 ],
 "metadata": {
  "kernelspec": {
   "display_name": "Python 3",
   "language": "python",
   "name": "python3"
  },
  "language_info": {
   "codemirror_mode": {
    "name": "ipython",
    "version": 3
   },
   "file_extension": ".py",
   "mimetype": "text/x-python",
   "name": "python",
   "nbconvert_exporter": "python",
   "pygments_lexer": "ipython3",
   "version": "3.6.5"
  }
 },
 "nbformat": 4,
 "nbformat_minor": 2
}
